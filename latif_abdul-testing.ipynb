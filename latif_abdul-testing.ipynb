{
 "cells": [
  {
   "cell_type": "code",
   "execution_count": 47,
   "metadata": {},
   "outputs": [],
   "source": [
    "import requests\n",
    "import tensorflow as tf\n",
    "# import numpy as np\n",
    "import pandas as pd\n",
    "import json\n",
    "import base64"
   ]
  },
  {
   "cell_type": "code",
   "execution_count": 103,
   "metadata": {},
   "outputs": [
    {
     "name": "stdout",
     "output_type": "stream",
     "text": [
      "      age  sex  chest pain type  resting bp s  cholesterol  \\\n",
      "1093   58    1                4           128          259   \n",
      "\n",
      "      fasting blood sugar  resting ecg  max heart rate  exercise angina  \\\n",
      "1093                    0            2             130                1   \n",
      "\n",
      "      oldpeak  ST slope  target  \n",
      "1093      3.0         2       1  \n"
     ]
    }
   ],
   "source": [
    "data = pd.read_csv('data/heart_statlog_cleveland_hungary_final.csv')\n",
    "first_data = data.sample()\n",
    "test_data = first_data.iloc[:, :-1].to_dict()\n",
    "\n",
    "# test_data = list(str(i) for i in test_data.values.tolist()[0])\n",
    "\n",
    "print(first_data)\n"
   ]
  },
  {
   "cell_type": "code",
   "execution_count": 104,
   "metadata": {},
   "outputs": [
    {
     "name": "stdout",
     "output_type": "stream",
     "text": [
      "{'age': int64_list {\n",
      "  value: 58\n",
      "}\n",
      ", 'sex': int64_list {\n",
      "  value: 1\n",
      "}\n",
      ", 'chest pain type': int64_list {\n",
      "  value: 4\n",
      "}\n",
      ", 'resting bp s': int64_list {\n",
      "  value: 128\n",
      "}\n",
      ", 'cholesterol': int64_list {\n",
      "  value: 259\n",
      "}\n",
      ", 'fasting blood sugar': int64_list {\n",
      "  value: 0\n",
      "}\n",
      ", 'resting ecg': int64_list {\n",
      "  value: 2\n",
      "}\n",
      ", 'max heart rate': int64_list {\n",
      "  value: 130\n",
      "}\n",
      ", 'exercise angina': int64_list {\n",
      "  value: 1\n",
      "}\n",
      ", 'oldpeak': float_list {\n",
      "  value: 3.0\n",
      "}\n",
      ", 'ST slope': int64_list {\n",
      "  value: 2\n",
      "}\n",
      "}\n"
     ]
    }
   ],
   "source": [
    "feature_spec = dict()\n",
    "for keys, values in test_data.items():\n",
    "    for keys_2, values_2 in values.items():\n",
    "        # print(keys, values_2)\n",
    "        if isinstance(values_2, int):\n",
    "            feature_spec[keys] = tf.train.Feature(int64_list=tf.train.Int64List(value=[int(values_2)]))\n",
    "        elif isinstance(values_2, float):\n",
    "            feature_spec[keys] = tf.train.Feature(float_list=tf.train.FloatList(value=[float(values_2)]))\n",
    "\n",
    "example = tf.train.Example(\n",
    "        features=tf.train.Features(feature=feature_spec)\n",
    "    ).SerializeToString()\n",
    "\n",
    "print(feature_spec)\n"
   ]
  },
  {
   "cell_type": "code",
   "execution_count": 120,
   "metadata": {},
   "outputs": [
    {
     "name": "stdout",
     "output_type": "stream",
     "text": [
      "Prediction :  Heart Desease\n"
     ]
    }
   ],
   "source": [
    "result = [\n",
    "        {\n",
    "            \"examples\": {\n",
    "                \"b64\": base64.b64encode(example).decode()\n",
    "            }\n",
    "        }\n",
    "    ]\n",
    "\n",
    "json_data = json.dumps(\n",
    "    {\n",
    "        \"signature_name\": \"serving_default\",\n",
    "        \"instances\": result,\n",
    "    }\n",
    ")\n",
    "\n",
    "endpoint = \"http://103.190.215.239:8501/v1/models/cc-model:predict\"\n",
    "headers = {\"content-type\": \"application/json\"}\n",
    "\n",
    "response = requests.post(endpoint, data=json_data, headers=headers)\n",
    "prediction_result = json.loads(response.text)\n",
    "kelas = ['Normal', 'Heart Desease']\n",
    "print(\"Prediction : \", kelas[int(prediction_result['predictions'][0][0])])"
   ]
  }
 ],
 "metadata": {
  "kernelspec": {
   "display_name": "mlops-tfx",
   "language": "python",
   "name": "python3"
  },
  "language_info": {
   "name": "python",
   "version": "3.9.15"
  }
 },
 "nbformat": 4,
 "nbformat_minor": 2
}
